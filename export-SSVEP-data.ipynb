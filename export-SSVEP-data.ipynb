{
 "cells": [
  {
   "cell_type": "code",
   "execution_count": 2,
   "metadata": {},
   "outputs": [],
   "source": [
    "import scipy.io\n",
    "import numpy as np\n",
    "import itertools\n",
    "from scipy.fftpack import fft, fftfreq\n",
    "import matplotlib.pyplot as plt\n",
    "from scipy.signal import butter, lfilter"
   ]
  },
  {
   "cell_type": "code",
   "execution_count": 15,
   "metadata": {},
   "outputs": [
    {
     "name": "stdout",
     "output_type": "stream",
     "text": [
      "Data includes 12 subjects :\n",
      "( 5 conditions per subject )\n",
      "( 15000 samplings per condition )\n"
     ]
    }
   ],
   "source": [
    "## import dataset\n",
    "mat = scipy.io.loadmat('SSVEPDataset.mat')\n",
    "data = mat['subject'][0]\n",
    "number_of_subjects = len(data)\n",
    "number_of_conditions = len(data[0])\n",
    "number_of_samplings = len(data[0][0])\n",
    "print \"Data includes\", number_of_subjects, \"subjects :\"\n",
    "print \"(\", number_of_conditions, \"conditions per subject )\"\n",
    "print \"(\", number_of_samplings, \"samplings per condition )\"\n",
    "# print data"
   ]
  },
  {
   "cell_type": "code",
   "execution_count": 20,
   "metadata": {},
   "outputs": [
    {
     "name": "stdout",
     "output_type": "stream",
     "text": [
      "Selecting data completed :  12 subjects, 5 conditions, 12500 samplings per subject per condition.\n",
      "Selecting data completed :  12 subjects, 5 conditions, 12500 samplings per subject per condition.\n",
      "Selecting data completed :  12 subjects, 5 conditions, 12500 samplings per subject per condition.\n",
      "Selecting data completed :  12 subjects, 5 conditions, 12500 samplings per subject per condition.\n",
      "Selecting data completed :  12 subjects, 5 conditions, 12500 samplings per subject per condition.\n",
      "Selecting data completed :  12 subjects, 5 conditions, 12500 samplings per subject per condition.\n",
      "Selecting data completed :  12 subjects, 5 conditions, 12500 samplings per subject per condition.\n",
      "Selecting data completed :  12 subjects, 5 conditions, 12500 samplings per subject per condition.\n",
      "Selecting data completed :  12 subjects, 5 conditions, 12500 samplings per subject per condition.\n",
      "Selecting data completed :  12 subjects, 5 conditions, 12500 samplings per subject per condition.\n",
      "Selecting data completed :  12 subjects, 5 conditions, 12500 samplings per subject per condition.\n",
      "Selecting data completed :  12 subjects, 5 conditions, 12500 samplings per subject per condition.\n"
     ]
    }
   ],
   "source": [
    "## select one condition data and filter out first 10-second data\n",
    "#set params\n",
    "number_of_condition = 5 #\n",
    "number_of_samplings_per_sec = 250\n",
    "filtered_secs = 10\n",
    "all_secs = number_of_samplings/number_of_samplings_per_sec\n",
    "used_secs = all_secs - filtered_secs\n",
    "number_of_filter_out_samplings = number_of_samplings_per_sec * filtered_secs\n",
    "\n",
    "#get data\n",
    "data_selected = np.zeros((number_of_subjects, number_of_condition, number_of_samplings-number_of_filter_out_samplings))\n",
    "for i, d in enumerate(data):\n",
    "    for condition_id in range(1, number_of_condition+1):\n",
    "        #print \"Select data from condition #\", condition_id\n",
    "        \n",
    "        join_list = list(itertools.chain.from_iterable(d[condition_id-1]))\n",
    "        \n",
    "        #bandpass filter\n",
    "        nyq = 0.5 * number_of_samplings_per_sec\n",
    "        low = 7 / nyq\n",
    "        high = 8 / nyq\n",
    "        order = 2\n",
    "        b, a = butter(order, [low, high], btype='band')\n",
    "        f = lfilter(b, a, join_list)\n",
    "\n",
    "        #filter out first-ten second\n",
    "        data_selected[i][condition_id-1] = f[number_of_filter_out_samplings:]\n",
    "        \n",
    "    print \"Selecting data completed : \", len(data_selected), \"subjects,\", len(data_selected[0]), \"conditions,\", len(data_selected[0][0]), \"samplings per subject per condition.\""
   ]
  },
  {
   "cell_type": "code",
   "execution_count": 21,
   "metadata": {},
   "outputs": [
    {
     "name": "stdout",
     "output_type": "stream",
     "text": [
      "Result shape: (12, 5, 12500)\n"
     ]
    }
   ],
   "source": [
    "#save to numpy\n",
    "print \"Result shape:\", data_selected.shape\n",
    "fw_name = \"SSVEP-filtered\"\n",
    "np.save(fw_name, np.array(data_selected))"
   ]
  }
 ],
 "metadata": {
  "kernelspec": {
   "display_name": "Python 2",
   "language": "python",
   "name": "python2"
  },
  "language_info": {
   "codemirror_mode": {
    "name": "ipython",
    "version": 2
   },
   "file_extension": ".py",
   "mimetype": "text/x-python",
   "name": "python",
   "nbconvert_exporter": "python",
   "pygments_lexer": "ipython2",
   "version": "2.7.12"
  }
 },
 "nbformat": 4,
 "nbformat_minor": 2
}
