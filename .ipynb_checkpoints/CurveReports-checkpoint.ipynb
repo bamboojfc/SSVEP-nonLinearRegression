{
 "cells": [
  {
   "cell_type": "code",
   "execution_count": 1,
   "metadata": {},
   "outputs": [],
   "source": [
    "import scipy.io\n",
    "import numpy as np\n",
    "import itertools\n",
    "from scipy.fftpack import fft, fftfreq\n",
    "import matplotlib.pyplot as plt\n",
    "from scipy.signal import butter, lfilter\n",
    "import math\n",
    "from scipy import stats\n",
    "import csv\n",
    "from sklearn import svm\n",
    "from sklearn.metrics import confusion_matrix\n",
    "from sklearn import metrics\n",
    "\n",
    "plt.rcParams[\"font.family\"] = \"Times New Roman\""
   ]
  },
  {
   "cell_type": "code",
   "execution_count": 2,
   "metadata": {},
   "outputs": [
    {
     "name": "stdout",
     "output_type": "stream",
     "text": [
      "Data includes 12 subjects :\n",
      "( 5 conditions per subject )\n",
      "( 15000 samplings per condition )\n"
     ]
    }
   ],
   "source": [
    "## import dataset\n",
    "mat = scipy.io.loadmat('SSVEPDataset.mat')\n",
    "data = mat['subject'][0]\n",
    "number_of_subjects = len(data)\n",
    "number_of_conditions = len(data[0])\n",
    "number_of_samplings = len(data[0][0])\n",
    "print \"Data includes\", number_of_subjects, \"subjects :\"\n",
    "print \"(\", number_of_conditions, \"conditions per subject )\"\n",
    "print \"(\", number_of_samplings, \"samplings per condition )\"\n",
    "#print data"
   ]
  },
  {
   "cell_type": "code",
   "execution_count": 3,
   "metadata": {},
   "outputs": [],
   "source": [
    "def get_data(data, condition_id):\n",
    "\n",
    "    #get data\n",
    "    data_selected = np.zeros((number_of_subjects, number_of_samplings-number_of_filter_out_samplings))\n",
    "    for i, d in enumerate(data):\n",
    "        #one loop is one subject\n",
    "        join_list = list(itertools.chain.from_iterable(d[condition_id-1]))\n",
    "\n",
    "        #bandpass filter\n",
    "        nyq = 0.5 * number_of_samplings_per_sec\n",
    "        low = 7 / nyq\n",
    "        high = 8 / nyq\n",
    "        order = 2\n",
    "        b, a = butter(order, [low, high], btype='band')\n",
    "        f = lfilter(b, a, join_list)\n",
    "\n",
    "        #filter out first-nine second\n",
    "        data_selected[i] = f[number_of_filter_out_samplings:]\n",
    "\n",
    "    print \"Select data from condition #\", condition_id\n",
    "    print \"Size of data is\", len(data_selected), \"subjects with\", len(data_selected[0]), \"samplings per subject.\"\n",
    "    \n",
    "    return data_selected"
   ]
  },
  {
   "cell_type": "code",
   "execution_count": 12,
   "metadata": {},
   "outputs": [],
   "source": [
    "def perform_fft(data_selected, window_size):\n",
    "\n",
    "    #FFT\n",
    "    for i, d in enumerate(data_selected):\n",
    "        #print \"==== FFT with subjects #\", i, \"====\"\n",
    "        for index in range(0, number_of_slide_windows):\n",
    "            #one loop per window\n",
    "#             print \"From second #\", index, \"to\", index+window_size-1,\"( sampling no.\", \\\n",
    "#                     index*number_of_samplings_per_sec, \"to\", (index + window_size) * number_of_samplings_per_sec - 1, \")\"\n",
    "\n",
    "            #FFT\n",
    "            fft_out = fft(d[index*number_of_samplings_per_sec : (index + window_size) * number_of_samplings_per_sec])\n",
    "\n",
    "            freqs = fftfreq(len(fft_out)) * number_of_samplings_per_sec\n",
    "\n",
    "            #Get maximum magnitude value from window_size freq\n",
    "            if window_size == 4:\n",
    "                fix_freq = 7.5\n",
    "            elif window_size == 5:\n",
    "                fix_freq = 7.6\n",
    "            elif window_size == 6:\n",
    "                fix_freq = 7.5\n",
    "            elif window_size == 8:\n",
    "                #still cannot find fix freq\n",
    "                #peak is around 7.56-7.58\n",
    "                #but after find from 7.5 to 7.8 (with scale + 0.00001), I still cannot find it\n",
    "                fix_freq = 7.5\n",
    "            elif window_size == 10:\n",
    "                fix_freq = 7.6\n",
    "\n",
    "            fft_out_max_list[i][index] = np.abs(fft_out)[np.where(freqs==fix_freq)]\n",
    "\n",
    "            \"\"\"\n",
    "            if index == number_of_slide_windows - 1:\n",
    "                #plot FFT of some specific window\n",
    "                fig, ax = plt.subplots()\n",
    "                ax.plot(freqs, np.abs(fft_out))\n",
    "                ax.set_xlabel('Frequency in Hertz [Hz]')\n",
    "                ax.set_ylabel('Frequency Domain (Spectrum) Magnitude')\n",
    "                ax.set_xlim(1, 15)\n",
    "                ax.set_ylim(1, 2500)\n",
    "                plt.grid()\n",
    "                plt.show() \n",
    "            \"\"\"\n",
    "            \n",
    "        #z-score normalization\n",
    "        fft_out_max_list[i] = stats.zscore(fft_out_max_list[i])  \n",
    "\n",
    "        \"\"\"\n",
    "        plt.plot(fft_out_max_list[i], 'ro')\n",
    "        plt.xlabel('Window no.')\n",
    "        plt.ylabel('Max Spectrum Magnitude')\n",
    "        plt.grid()\n",
    "        plt.show()\n",
    "        \"\"\"\n",
    "        \n",
    "    return fft_out_max_list"
   ]
  },
  {
   "cell_type": "code",
   "execution_count": 5,
   "metadata": {},
   "outputs": [],
   "source": [
    "def fit_curve(x, y, degree):\n",
    "    coefs = []\n",
    "    \n",
    "    for i in range(number_of_subjects):\n",
    "        coefs.append(np.polyfit(x[i], y[i], degree))\n",
    "        \n",
    "    print 'Curve fitting done!'\n",
    "    return coefs   "
   ]
  },
  {
   "cell_type": "code",
   "execution_count": 6,
   "metadata": {},
   "outputs": [],
   "source": [
    "def plot_curve(coef, fft_out, light_intensity, cond):\n",
    "    y_pred = []\n",
    "    for i, c in enumerate(coef):\n",
    "        ffit = np.poly1d(c)\n",
    "        ys = []\n",
    "        for x in fft_out[i]:\n",
    "            ys.append(ffit(x))\n",
    "        \n",
    "        \"\"\"\n",
    "        fig = plt.figure()\n",
    "        ax1 = fig.add_subplot(111)\n",
    "        ax1.scatter( fft_out[i], ys, s=10, c='b', marker=\"s\", label='curve fitting')\n",
    "        ax1.scatter( fft_out[i], light_intensity[i], s=10, c='r', marker=\"o\", label='actual data')\n",
    "        plt.title('Subject#' + str(i) + ', Condition#' + str(cond))\n",
    "        plt.legend(loc='upper left');\n",
    "        plt.show()\n",
    "        \"\"\"\n",
    "        \n",
    "        y_pred.append(ys)\n",
    "        \n",
    "    return y_pred"
   ]
  },
  {
   "cell_type": "code",
   "execution_count": 59,
   "metadata": {},
   "outputs": [],
   "source": [
    "def plot_avg_curve(fft_out, cond, degree):\n",
    "    \n",
    "    avg = np.mean(fft_out, axis = 0)\n",
    "    time_steps = [x for x in range(0, number_of_slide_windows)]\n",
    "    yerr = np.std(fft_out, axis=0) / math.sqrt(number_of_subjects)\n",
    "    \n",
    "    #curve fit\n",
    "    coef = np.polyfit(time_steps, avg, degree)\n",
    "    ffit = np.poly1d(coef)\n",
    "    ys = []\n",
    "    for a in time_steps:\n",
    "        ys.append(ffit(a))\n",
    "    fig = plt.figure()\n",
    "    ax = fig.add_subplot(111)\n",
    "    ax.plot(time_steps, ys, lw=2.5, color=\"#424949\")\n",
    "    \n",
    "    #plot errorbar\n",
    "    ax.errorbar(time_steps, avg, yerr, linestyle='None', \\\n",
    "                 fmt='o', markersize=2, color='r', capsize=2, lw=1)\n",
    "    \n",
    "    plt.xlabel('Time Steps', fontsize=12, fontweight='bold')\n",
    "    plt.ylabel('Normalized SSVEP', fontsize=12, fontweight='bold')\n",
    "    ax.set_ylim(1, 1.5)\n",
    "    #plt.show()\n",
    "    plt.savefig('./results/' + str(cond) + '.png')\n",
    "    \n",
    "    return ys"
   ]
  },
  {
   "cell_type": "code",
   "execution_count": 60,
   "metadata": {},
   "outputs": [],
   "source": [
    "def get_rmse(y_true, y_pred):\n",
    "    RMSEs = np.zeros(shape = (number_of_subjects,1))\n",
    "    \n",
    "    for i in range(number_of_subjects):\n",
    "        RMSEs[i] = np.sqrt(np.sum(np.square(y_pred[i]-y_true[i]))/ len(y_true[i]))\n",
    "    \n",
    "    return RMSEs"
   ]
  },
  {
   "cell_type": "code",
   "execution_count": 61,
   "metadata": {},
   "outputs": [],
   "source": [
    "def get_r2(y_true, y_pred):\n",
    "    R2s = np.zeros(shape = (number_of_subjects,1))\n",
    "    \n",
    "    for i in range(number_of_subjects):\n",
    "        R2s[i] = metrics.r2_score(y_true[i], y_pred[i])\n",
    "    \n",
    "    return R2s"
   ]
  },
  {
   "cell_type": "code",
   "execution_count": 62,
   "metadata": {},
   "outputs": [],
   "source": [
    "def get_rmse_avg(y_true, y_pred):\n",
    "    RMSEs = np.zeros(shape = (number_of_subjects,1))\n",
    "    \n",
    "    for i in range(number_of_subjects):\n",
    "        RMSEs[i] = np.sqrt(np.sum(np.square(y_pred-y_true[i]))/ len(y_true[i]))\n",
    "    \n",
    "    return RMSEs"
   ]
  },
  {
   "cell_type": "code",
   "execution_count": 63,
   "metadata": {},
   "outputs": [],
   "source": [
    "def get_r2_avg(y_true, y_pred):\n",
    "    R2s = np.zeros(shape = (number_of_subjects,1))\n",
    "    \n",
    "    for i in range(number_of_subjects):\n",
    "        R2s[i] = metrics.r2_score(y_true[i], y_pred)\n",
    "    \n",
    "    return R2s"
   ]
  },
  {
   "cell_type": "code",
   "execution_count": 64,
   "metadata": {},
   "outputs": [],
   "source": [
    "def write_result_to_csv(results, res_type):\n",
    "    print 'Start writing results from', len(results), 'conditions'\n",
    "    \n",
    "    dir_path = './results/'\n",
    "    filename = dir_path + res_type\n",
    "    \n",
    "    for index, r in enumerate(results):\n",
    "        csvfile1 = open(filename + '_con' + str(conditions[index]) + \\\n",
    "                        '_win' + str(window_sizes) + '.csv', 'wb')\n",
    "\n",
    "        wr1 = csv.writer(csvfile1, delimiter=',',\n",
    "                                quotechar='|', quoting=csv.QUOTE_MINIMAL)\n",
    "\n",
    "        row = ['subject_id']\n",
    "        for wind in window_sizes:\n",
    "            row.append('win' + str(wind))\n",
    "            \n",
    "        wr1.writerow(row)\n",
    "\n",
    "        for i in range(0, number_of_subjects):\n",
    "            row = [i]\n",
    "            for wind_index in range(0, number_of_window_sizes):\n",
    "                row.append(results[index][wind_index][i])\n",
    "            wr1.writerow(row)\n",
    "\n",
    "        csvfile1.close()\n",
    "    \n",
    "    print 'Finish writing:', res_type"
   ]
  },
  {
   "cell_type": "code",
   "execution_count": 65,
   "metadata": {},
   "outputs": [
    {
     "name": "stdout",
     "output_type": "stream",
     "text": [
      "################### window size = 5 ###################\n",
      "Parameter settings: 1st window start at intensity = 105 , end at intensity = 246\n",
      "\n",
      "Parameter setting : all = 60 seconds, used =  51 seconds\n",
      "Each subjects contains 47 windows.\n",
      "Select data from condition # 1\n",
      "Size of data is 12 subjects with 12750 samplings per subject.\n",
      "Curve fitting done!\n"
     ]
    },
    {
     "ename": "AttributeError",
     "evalue": "'module' object has no attribute 'set_ylim'",
     "output_type": "error",
     "traceback": [
      "\u001b[0;31m---------------------------------------------------------------------------\u001b[0m",
      "\u001b[0;31mAttributeError\u001b[0m                            Traceback (most recent call last)",
      "\u001b[0;32m<ipython-input-65-a9f034817a12>\u001b[0m in \u001b[0;36m<module>\u001b[0;34m()\u001b[0m\n\u001b[1;32m     53\u001b[0m         \u001b[0mcurve_coefs\u001b[0m\u001b[0;34m.\u001b[0m\u001b[0mappend\u001b[0m\u001b[0;34m(\u001b[0m\u001b[0mfit_curve\u001b[0m\u001b[0;34m(\u001b[0m\u001b[0mx\u001b[0m\u001b[0;34m,\u001b[0m \u001b[0my_true\u001b[0m\u001b[0;34m,\u001b[0m \u001b[0mdegree\u001b[0m\u001b[0;34m)\u001b[0m\u001b[0;34m)\u001b[0m\u001b[0;34m\u001b[0m\u001b[0m\n\u001b[1;32m     54\u001b[0m         \u001b[0my_pred\u001b[0m \u001b[0;34m=\u001b[0m \u001b[0mplot_curve\u001b[0m\u001b[0;34m(\u001b[0m\u001b[0mcurve_coefs\u001b[0m\u001b[0;34m[\u001b[0m\u001b[0mi\u001b[0m\u001b[0;34m]\u001b[0m\u001b[0;34m,\u001b[0m \u001b[0mx\u001b[0m\u001b[0;34m,\u001b[0m \u001b[0my_true\u001b[0m\u001b[0;34m,\u001b[0m \u001b[0mcond\u001b[0m\u001b[0;34m)\u001b[0m\u001b[0;34m\u001b[0m\u001b[0m\n\u001b[0;32m---> 55\u001b[0;31m         \u001b[0my_pred_avg\u001b[0m \u001b[0;34m=\u001b[0m \u001b[0mplot_avg_curve\u001b[0m\u001b[0;34m(\u001b[0m\u001b[0mx\u001b[0m\u001b[0;34m,\u001b[0m \u001b[0mcond\u001b[0m\u001b[0;34m,\u001b[0m \u001b[0mdegree\u001b[0m\u001b[0;34m)\u001b[0m\u001b[0;34m\u001b[0m\u001b[0m\n\u001b[0m\u001b[1;32m     56\u001b[0m \u001b[0;34m\u001b[0m\u001b[0m\n\u001b[1;32m     57\u001b[0m         \u001b[0mRMSE\u001b[0m \u001b[0;34m=\u001b[0m \u001b[0mget_rmse\u001b[0m\u001b[0;34m(\u001b[0m\u001b[0my_true\u001b[0m\u001b[0;34m,\u001b[0m \u001b[0my_pred\u001b[0m\u001b[0;34m)\u001b[0m\u001b[0;34m\u001b[0m\u001b[0m\n",
      "\u001b[0;32m<ipython-input-59-d3b2f97f1c30>\u001b[0m in \u001b[0;36mplot_avg_curve\u001b[0;34m(fft_out, cond, degree)\u001b[0m\n\u001b[1;32m     20\u001b[0m     \u001b[0mplt\u001b[0m\u001b[0;34m.\u001b[0m\u001b[0mxlabel\u001b[0m\u001b[0;34m(\u001b[0m\u001b[0;34m'Time Steps'\u001b[0m\u001b[0;34m,\u001b[0m \u001b[0mfontsize\u001b[0m\u001b[0;34m=\u001b[0m\u001b[0;36m12\u001b[0m\u001b[0;34m,\u001b[0m \u001b[0mfontweight\u001b[0m\u001b[0;34m=\u001b[0m\u001b[0;34m'bold'\u001b[0m\u001b[0;34m)\u001b[0m\u001b[0;34m\u001b[0m\u001b[0m\n\u001b[1;32m     21\u001b[0m     \u001b[0mplt\u001b[0m\u001b[0;34m.\u001b[0m\u001b[0mylabel\u001b[0m\u001b[0;34m(\u001b[0m\u001b[0;34m'Normalized SSVEP'\u001b[0m\u001b[0;34m,\u001b[0m \u001b[0mfontsize\u001b[0m\u001b[0;34m=\u001b[0m\u001b[0;36m12\u001b[0m\u001b[0;34m,\u001b[0m \u001b[0mfontweight\u001b[0m\u001b[0;34m=\u001b[0m\u001b[0;34m'bold'\u001b[0m\u001b[0;34m)\u001b[0m\u001b[0;34m\u001b[0m\u001b[0m\n\u001b[0;32m---> 22\u001b[0;31m     \u001b[0mplt\u001b[0m\u001b[0;34m.\u001b[0m\u001b[0mset_ylim\u001b[0m\u001b[0;34m(\u001b[0m\u001b[0;36m1\u001b[0m\u001b[0;34m,\u001b[0m \u001b[0;36m1.5\u001b[0m\u001b[0;34m)\u001b[0m\u001b[0;34m\u001b[0m\u001b[0m\n\u001b[0m\u001b[1;32m     23\u001b[0m     \u001b[0;31m#plt.show()\u001b[0m\u001b[0;34m\u001b[0m\u001b[0;34m\u001b[0m\u001b[0m\n\u001b[1;32m     24\u001b[0m     \u001b[0mplt\u001b[0m\u001b[0;34m.\u001b[0m\u001b[0msavefig\u001b[0m\u001b[0;34m(\u001b[0m\u001b[0;34m'./results/'\u001b[0m \u001b[0;34m+\u001b[0m \u001b[0mstr\u001b[0m\u001b[0;34m(\u001b[0m\u001b[0mcond\u001b[0m\u001b[0;34m)\u001b[0m \u001b[0;34m+\u001b[0m \u001b[0;34m'.png'\u001b[0m\u001b[0;34m)\u001b[0m\u001b[0;34m\u001b[0m\u001b[0m\n",
      "\u001b[0;31mAttributeError\u001b[0m: 'module' object has no attribute 'set_ylim'"
     ]
    },
    {
     "data": {
      "image/png": "[encoded data removed]",
      "text/plain": [
       "<matplotlib.figure.Figure at 0x7fb49532dbd0>"
      ]
     },
     "metadata": {},
     "output_type": "display_data"
    }
   ],
   "source": [
    "## get data, plot curve and get RMSE\n",
    "\n",
    "#setting parameters\n",
    "conditions = [1, 2, 3, 4, 5]\n",
    "number_of_samplings_per_sec = 250\n",
    "filtered_secs = 9\n",
    "degree = 3\n",
    "window_sizes = [5] #seconds\n",
    "selected_data_start = None #default is None\n",
    "selected_data_end = None #default is None\n",
    "\n",
    "number_of_selected_conditions = len(conditions)\n",
    "number_of_window_sizes = len(window_sizes)\n",
    "RMSE_all = np.zeros(shape = (number_of_selected_conditions, number_of_window_sizes, number_of_subjects))\n",
    "R2_all = np.zeros(shape = (number_of_selected_conditions, number_of_window_sizes, number_of_subjects))\n",
    "RMSE_avg = np.zeros(shape = (number_of_selected_conditions, number_of_window_sizes, number_of_subjects))\n",
    "R2_avg = np.zeros(shape = (number_of_selected_conditions, number_of_window_sizes, number_of_subjects))\n",
    "\n",
    "for w, wind in enumerate(window_sizes):\n",
    "    print '################### window size =', wind, '###################'\n",
    "    all_secs = number_of_samplings/number_of_samplings_per_sec\n",
    "    used_secs = all_secs - filtered_secs\n",
    "    number_of_filter_out_samplings = number_of_samplings_per_sec * filtered_secs\n",
    "    number_of_slide_windows = used_secs-wind+1\n",
    "    fft_out_max_list = np.zeros((number_of_subjects, number_of_slide_windows))\n",
    "\n",
    "    intensity_step = 3\n",
    "    first_light_intensity_begin = 105\n",
    "    last_light_intensity_begin = (number_of_slide_windows * intensity_step) + first_light_intensity_begin\n",
    "    print \"Parameter settings: 1st window start at intensity =\", first_light_intensity_begin, \\\n",
    "            \", end at intensity =\", last_light_intensity_begin\n",
    "    print\n",
    "\n",
    "    # Test/train split\n",
    "    light_intensity = np.arange(first_light_intensity_begin, last_light_intensity_begin, intensity_step)\n",
    "    light_intensity = np.tile(light_intensity,(number_of_subjects,1))\n",
    "\n",
    "    print \"Parameter setting : all =\", all_secs, \"seconds, used = \", used_secs, \"seconds\" \n",
    "    print \"Each subjects contains\", number_of_slide_windows, \"windows.\"\n",
    "\n",
    "    curve_coefs = []\n",
    "\n",
    "    for i, cond in enumerate(conditions):\n",
    "        data_selected = get_data(data, cond)\n",
    "        fft_out = perform_fft(data_selected, wind)\n",
    "\n",
    "        if selected_data_start != None and selected_data_end != None:\n",
    "            x = [f[selected_data_start: selected_data_end] for f in fft_out]\n",
    "            y_true = [l[selected_data_start: selected_data_end] for l in light_intensity]\n",
    "        else:\n",
    "            x = fft_out\n",
    "            y_true = light_intensity\n",
    "            \n",
    "        curve_coefs.append(fit_curve(x, y_true, degree))\n",
    "        y_pred = plot_curve(curve_coefs[i], x, y_true, cond)\n",
    "        y_pred_avg = plot_avg_curve(x, cond, degree)\n",
    "        \n",
    "        RMSE = get_rmse(y_true, y_pred)\n",
    "        RMSE_all[i][w] = np.concatenate(RMSE)\n",
    "        R2 = get_r2(y_true, y_pred)\n",
    "        R2_all[i][w] = np.concatenate(R2)\n",
    "        \n",
    "        RMSE_AVG = get_rmse_avg(fft_out, y_pred_avg)\n",
    "        RMSE_avg[i][w] = np.concatenate(RMSE_AVG)\n",
    "        R2_AVG = get_r2_avg(fft_out, y_pred_avg)\n",
    "        R2_avg[i][w] = np.concatenate(R2_AVG)\n",
    "        \n",
    "        print '======================================='\n",
    "        print"
   ]
  },
  {
   "cell_type": "code",
   "execution_count": 43,
   "metadata": {
    "scrolled": false
   },
   "outputs": [
    {
     "name": "stdout",
     "output_type": "stream",
     "text": [
      "got results from 5 conditions,  1 window sizes,  12 subjects\n",
      "Start writing results from 5 conditions\n",
      "Finish writing: rmse\n",
      "Start writing results from 5 conditions\n",
      "Finish writing: r2\n",
      "Start writing results from 5 conditions\n",
      "Finish writing: rmse_avg\n",
      "Start writing results from 5 conditions\n",
      "Finish writing: r2_avg\n"
     ]
    }
   ],
   "source": [
    "print 'got results from', RMSE_all.shape[0], 'conditions, ', RMSE_all.shape[1], \\\n",
    "        'window sizes, ', RMSE_all.shape[2], 'subjects'\n",
    "write_result_to_csv(RMSE_all, 'rmse')\n",
    "write_result_to_csv(R2_all, 'r2')\n",
    "write_result_to_csv(RMSE_avg, 'rmse_avg')\n",
    "write_result_to_csv(R2_avg, 'r2_avg')"
   ]
  },
  {
   "cell_type": "code",
   "execution_count": null,
   "metadata": {},
   "outputs": [],
   "source": []
  }
 ],
 "metadata": {
  "kernelspec": {
   "display_name": "Python 2",
   "language": "python",
   "name": "python2"
  },
  "language_info": {
   "codemirror_mode": {
    "name": "ipython",
    "version": 2
   },
   "file_extension": ".py",
   "mimetype": "text/x-python",
   "name": "python",
   "nbconvert_exporter": "python",
   "pygments_lexer": "ipython2",
   "version": "2.7.12"
  }
 },
 "nbformat": 4,
 "nbformat_minor": 2
}
